{
 "cells": [
  {
   "cell_type": "code",
   "execution_count": 1,
   "metadata": {},
   "outputs": [
    {
     "name": "stdout",
     "output_type": "stream",
     "text": [
      "input the number one: 45\n",
      "input the number one: 2\n",
      "The product is 90\n"
     ]
    }
   ],
   "source": [
    "def add_num(a,b):#function for multiplication\n",
    "    multiply=a*b;\n",
    "    return multiply; #return value\n",
    "num1=int(input(\"input the number one: \"))#input from user for num1\n",
    "num2=int(input(\"input the number one: \"))#input from user for num2\n",
    "print(\"The product is\",add_num(num1,num2))#call te function"
   ]
  },
  {
   "cell_type": "code",
   "execution_count": 2,
   "metadata": {},
   "outputs": [
    {
     "name": "stdout",
     "output_type": "stream",
     "text": [
      "input the number one: 150\n",
      "input the number one: 25\n",
      "The Sum is 175\n"
     ]
    }
   ],
   "source": [
    "def sum_num(a,b):#function for add\n",
    "    add=a+b;\n",
    "    return add; #return value\n",
    "num1=int(input(\"input the number one: \"))#input from user for num1\n",
    "num2=int(input(\"input the number one: \"))#input from user for num2\n",
    "print(\"The Sum is\",sum_num(num1,num2))#call te function"
   ]
  },
  {
   "cell_type": "code",
   "execution_count": 3,
   "metadata": {},
   "outputs": [
    {
     "name": "stdout",
     "output_type": "stream",
     "text": [
      "Fibonacci sequence:\n",
      "0\n",
      "1\n",
      "1\n",
      "2\n",
      "3\n",
      "5\n",
      "8\n",
      "13\n",
      "21\n",
      "34\n"
     ]
    }
   ],
   "source": [
    "def recur_fibo(n):\n",
    "   if n <= 1:\n",
    "       return n\n",
    "   else:\n",
    "       return(recur_fibo(n-1) + recur_fibo(n-2))\n",
    "\n",
    "nterms = 10\n",
    "\n",
    "# check if the number of terms is valid\n",
    "if nterms <= 0:\n",
    "   print(\"Plese enter a positive integer\")\n",
    "else:\n",
    "   print(\"Fibonacci sequence:\")\n",
    "   for i in range(nterms):\n",
    "       print(recur_fibo(i))"
   ]
  },
  {
   "cell_type": "code",
   "execution_count": 4,
   "metadata": {},
   "outputs": [
    {
     "name": "stdout",
     "output_type": "stream",
     "text": [
      " Please Enter the First Value : 5\n",
      " Please Enter the Second Value : 2\n",
      "Before Swapping two Number: num1 = 5.0 and num2 = 2.0\n",
      "After Swapping two Number: num1 = 2.0 and num2 = 5.0\n"
     ]
    }
   ],
   "source": [
    "def swap_numbers(a, b):\n",
    "    temp = a\n",
    "    a = b\n",
    "    b = temp\n",
    "    \n",
    "    print(\"After Swapping two Number: num1 = {0} and num2 = {1}\".format(a, b))\n",
    " \n",
    "num1 = float(input(\" Please Enter the First Value : \"))\n",
    "num2 = float(input(\" Please Enter the Second Value : \"))\n",
    "\n",
    "print(\"Before Swapping two Number: num1 = {0} and num2 = {1}\".format(num1, num2))\n",
    "swap_numbers(num1, num2)"
   ]
  },
  {
   "cell_type": "code",
   "execution_count": 5,
   "metadata": {},
   "outputs": [
    {
     "name": "stdout",
     "output_type": "stream",
     "text": [
      " Please Enter the First Number : 34\n",
      " Please Enter the Second Number : 54\n",
      "The H.C.F. is 2\n"
     ]
    }
   ],
   "source": [
    "def compute_hcf(x, y):\n",
    "    if x > y:\n",
    "        smaller = y\n",
    "    else:\n",
    "        smaller = x\n",
    "    for i in range(1, smaller+1):\n",
    "        if((x % i == 0) and (y % i == 0)):\n",
    "            hcf = i \n",
    "    return hcf\n",
    "\n",
    "num1 = int(input(\" Please Enter the First Number : \")) \n",
    "num2 = int(input(\" Please Enter the Second Number : \"))\n",
    "\n",
    "print(\"The H.C.F. is\", compute_hcf(num1, num2))"
   ]
  },
  {
   "cell_type": "code",
   "execution_count": 6,
   "metadata": {},
   "outputs": [
    {
     "name": "stdout",
     "output_type": "stream",
     "text": [
      "Please enter any number to find factorial: 55\n",
      "The factorial of 55 = 12696403353658275925965100847566516959580321051449436762275840000000000000\n"
     ]
    }
   ],
   "source": [
    "def factorial(num):#function definition\n",
    "    fact=1\n",
    "    for i in range(1, num+1):#for loop for finding factorial\n",
    "        fact=fact*i\n",
    "    return fact    #return factorial \n",
    "number=int(input(\"Please enter any number to find factorial: \"))\n",
    "result=factorial(number)#function call and assign the value to variable result\n",
    "print(\"The factorial of %d = %d\"%(number,result))"
   ]
  },
  {
   "cell_type": "code",
   "execution_count": 7,
   "metadata": {},
   "outputs": [
    {
     "name": "stdout",
     "output_type": "stream",
     "text": [
      " Please Enter the Alphabet : z\n",
      "The ASCII value of 'z' is 122\n"
     ]
    }
   ],
   "source": [
    "c = (input(\" Please Enter the Alphabet : \")) \n",
    "print(\"The ASCII value of '\" + c + \"' is\", ord(c))"
   ]
  },
  {
   "cell_type": "code",
   "execution_count": 10,
   "metadata": {},
   "outputs": [
    {
     "ename": "SyntaxError",
     "evalue": "invalid character in identifier (<ipython-input-10-6365f4c8646e>, line 3)",
     "output_type": "error",
     "traceback": [
      "\u001b[1;36m  File \u001b[1;32m\"<ipython-input-10-6365f4c8646e>\"\u001b[1;36m, line \u001b[1;32m3\u001b[0m\n\u001b[1;33m    In [ ]:any((1,0,0))\u001b[0m\n\u001b[1;37m      ^\u001b[0m\n\u001b[1;31mSyntaxError\u001b[0m\u001b[1;31m:\u001b[0m invalid character in identifier\n"
     ]
    }
   ],
   "source": [
    "abs(-7)\n",
    "Out[21]:7\n",
    "In [ ]:any((1,0,0))\n",
    "In [22]:\n",
    "#bin() converts an integer to a binary string\n",
    "    bin(7)"
   ]
  },
  {
   "cell_type": "code",
   "execution_count": 11,
   "metadata": {},
   "outputs": [
    {
     "name": "stdout",
     "output_type": "stream",
     "text": [
      "Present date is : 2020-05-04\n"
     ]
    }
   ],
   "source": [
    "import datetime \n",
    "from datetime import date  \n",
    "print (\"Present date is : \",end=\"\") \n",
    "print (date.today())"
   ]
  },
  {
   "cell_type": "code",
   "execution_count": 13,
   "metadata": {},
   "outputs": [
    {
     "name": "stdout",
     "output_type": "stream",
     "text": [
      "I'm first call to user defined function!\n",
      "Again second call to the same function\n"
     ]
    }
   ],
   "source": [
    "# Function definition is here\n",
    "def printme( str ):\n",
    "   \"This prints a passed string into this function\"\n",
    "   print(str)\n",
    "   return;\n",
    "\n",
    "# Now you can call printme function\n",
    "printme(\"I'm first call to user defined function!\")\n",
    "printme(\"Again second call to the same function\")"
   ]
  },
  {
   "cell_type": "code",
   "execution_count": 14,
   "metadata": {},
   "outputs": [
    {
     "name": "stdout",
     "output_type": "stream",
     "text": [
      "Geeks Practice\n",
      "Geeks Practice\n"
     ]
    }
   ],
   "source": [
    "# Python program to demonstrate Keyword Arguments \n",
    "def student(firstname, lastname):  \n",
    "     print(firstname, lastname)  \n",
    "    \n",
    "    \n",
    "# Keyword arguments                   \n",
    "student(firstname ='Geeks', lastname ='Practice')     \n",
    "student(lastname ='Practice', firstname ='Geeks')"
   ]
  },
  {
   "cell_type": "code",
   "execution_count": 15,
   "metadata": {},
   "outputs": [
    {
     "name": "stdout",
     "output_type": "stream",
     "text": [
      "x:  10\n",
      "y:  50\n"
     ]
    }
   ],
   "source": [
    " # Python program to demonstrate \n",
    "# default arguments \n",
    "def myFun(x, y=50): \n",
    "    print(\"x: \", x) \n",
    "    print(\"y: \", y) \n",
    "  \n",
    "# Driver code (We call myFun() with only \n",
    "# argument) \n",
    "myFun(10)"
   ]
  },
  {
   "cell_type": "code",
   "execution_count": 16,
   "metadata": {},
   "outputs": [
    {
     "name": "stdout",
     "output_type": "stream",
     "text": [
      "Hello\n",
      "Welcome\n",
      "to\n",
      "GeeksforGeeks\n"
     ]
    }
   ],
   "source": [
    "# Python program to illustrate   \n",
    "# *args for variable number of arguments \n",
    "def myFun(*argv):  \n",
    "    for arg in argv:  \n",
    "        print (arg) \n",
    "    \n",
    "myFun('Hello', 'Welcome', 'to', 'GeeksforGeeks')"
   ]
  },
  {
   "cell_type": "code",
   "execution_count": null,
   "metadata": {},
   "outputs": [],
   "source": []
  }
 ],
 "metadata": {
  "kernelspec": {
   "display_name": "Python 3",
   "language": "python",
   "name": "python3"
  },
  "language_info": {
   "codemirror_mode": {
    "name": "ipython",
    "version": 3
   },
   "file_extension": ".py",
   "mimetype": "text/x-python",
   "name": "python",
   "nbconvert_exporter": "python",
   "pygments_lexer": "ipython3",
   "version": "3.7.4"
  }
 },
 "nbformat": 4,
 "nbformat_minor": 2
}
