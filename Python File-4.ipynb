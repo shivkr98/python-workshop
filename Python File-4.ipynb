{
 "cells": [
  {
   "cell_type": "code",
   "execution_count": 1,
   "metadata": {},
   "outputs": [
    {
     "name": "stdout",
     "output_type": "stream",
     "text": [
      "()\n"
     ]
    }
   ],
   "source": [
    "#Q1. Write a Python program to create a tuple.  \n",
    "var=()\n",
    "print(var)"
   ]
  },
  {
   "cell_type": "markdown",
   "metadata": {},
   "source": []
  },
  {
   "cell_type": "code",
   "execution_count": 1,
   "metadata": {},
   "outputs": [
    {
     "name": "stdout",
     "output_type": "stream",
     "text": [
      "(6, 'sachin', True)\n"
     ]
    }
   ],
   "source": [
    "#Q2. Write a Python program to create a tuple with different data types.  \n",
    "var1=(6,'sachin',True)\n",
    "print(var1)"
   ]
  },
  {
   "cell_type": "code",
   "execution_count": 4,
   "metadata": {},
   "outputs": [
    {
     "name": "stdout",
     "output_type": "stream",
     "text": [
      "40\n"
     ]
    }
   ],
   "source": [
    "#Q3. Write a Python program to create a tuple with numbers and print one item.  \n",
    "xc=(20, 30, 40, 50)\n",
    "print(xc[2])"
   ]
  },
  {
   "cell_type": "code",
   "execution_count": 5,
   "metadata": {},
   "outputs": [
    {
     "name": "stdout",
     "output_type": "stream",
     "text": [
      "20 30 40 50\n"
     ]
    }
   ],
   "source": [
    "#Q4. Write a Python program to unpack a tuple in several variables.  \n",
    "xc=(20, 30, 40, 50)\n",
    "a, b, c, d=xc\n",
    "print(a, b, c, d)"
   ]
  },
  {
   "cell_type": "code",
   "execution_count": 10,
   "metadata": {},
   "outputs": [
    {
     "name": "stdout",
     "output_type": "stream",
     "text": [
      "(20, 30, 40, 50, 60)\n"
     ]
    }
   ],
   "source": [
    "#Q5. Write a Python program to add an item in a tuple.  \n",
    "xc=(20, 30, 40, 50)\n",
    "x=(60,)\n",
    "xc= xc+ x\n",
    "print(pt)"
   ]
  },
  {
   "cell_type": "code",
   "execution_count": 18,
   "metadata": {},
   "outputs": [
    {
     "name": "stdout",
     "output_type": "stream",
     "text": [
      "10 bla 20 bla 30\n"
     ]
    }
   ],
   "source": [
    "#Q6. Write a Python program to convert a tuple to a string.  \n",
    "var=(\"10\",\"20\",\"30\")\n",
    "str=' bla '.join(var)\n",
    "print(str)"
   ]
  },
  {
   "cell_type": "code",
   "execution_count": 26,
   "metadata": {},
   "outputs": [
    {
     "name": "stdout",
     "output_type": "stream",
     "text": [
      "d e\n"
     ]
    }
   ],
   "source": [
    "#Q7. Write a Python program to get the 4th element and 4th element from last of a tuple\n",
    "chh=(\"a\",\"b\",\"c\",\"d\",\"e\",\"f\",\"g\",\"h\")\n",
    "print(chh[3], chh[-4])"
   ]
  },
  {
   "cell_type": "code",
   "execution_count": 29,
   "metadata": {},
   "outputs": [
    {
     "name": "stdout",
     "output_type": "stream",
     "text": [
      "5\n"
     ]
    }
   ],
   "source": [
    "#Q8. a Python program to find the repeated items of a tuple.  \n",
    "var=(1,2,1,4,5,2,1,1,1)\n",
    "print(var.count(1))\n"
   ]
  },
  {
   "cell_type": "code",
   "execution_count": 30,
   "metadata": {},
   "outputs": [
    {
     "name": "stdout",
     "output_type": "stream",
     "text": [
      "present\n"
     ]
    }
   ],
   "source": [
    "#Q9. Write a Python program to check whether an element exists within a tuple.  \n",
    "var=(1,4,2,3,5)\n",
    "if 2 in var:\n",
    "    print(\"present\")\n",
    "else:\n",
    "    print(\"absent\")"
   ]
  },
  {
   "cell_type": "code",
   "execution_count": 32,
   "metadata": {},
   "outputs": [
    {
     "name": "stdout",
     "output_type": "stream",
     "text": [
      "(1, 2, 3, 4, 5)\n"
     ]
    }
   ],
   "source": [
    "#Q10. Write a Python program to convert a list to a tuple.  \n",
    "list1=[1,2,3,4,5]\n",
    "var= tuple(list1)\n",
    "print(var)"
   ]
  },
  {
   "cell_type": "code",
   "execution_count": 35,
   "metadata": {},
   "outputs": [
    {
     "name": "stdout",
     "output_type": "stream",
     "text": [
      "[1, 2, 4]\n"
     ]
    }
   ],
   "source": [
    "#Q11. Write a Python program to remove an item from a tuple.  \n",
    "var=(1,2,3,4)\n",
    "list1= list(var)\n",
    "list1.remove(3)\n",
    "var1= tuple(list1)\n",
    "print(list1)"
   ]
  },
  {
   "cell_type": "code",
   "execution_count": 38,
   "metadata": {},
   "outputs": [
    {
     "name": "stdout",
     "output_type": "stream",
     "text": [
      "(1, 4)\n"
     ]
    }
   ],
   "source": [
    "#Q12. Write a Python program to slice a tuple.\n",
    "var=(1,2,3,4)\n",
    "list1=list(var)\n",
    "list1.remove(2),list1.remove(3)\n",
    "var1= tuple(list1)\n",
    "print(var1)"
   ]
  },
  {
   "cell_type": "code",
   "execution_count": 40,
   "metadata": {},
   "outputs": [
    {
     "name": "stdout",
     "output_type": "stream",
     "text": [
      "(3, 4)\n"
     ]
    }
   ],
   "source": [
    "#Q12(ii) Write a Python program to slice a tuple \n",
    "var=(1,2,3,4)\n",
    "print(var[2:])"
   ]
  },
  {
   "cell_type": "code",
   "execution_count": 51,
   "metadata": {},
   "outputs": [
    {
     "name": "stdout",
     "output_type": "stream",
     "text": [
      "(1, 2, 4)\n"
     ]
    }
   ],
   "source": [
    "#Q12(iii) Write a Python program to slice a tuple \n",
    "var=(1,2,3,4)\n",
    "print(var[0:2]+var[-1: ])"
   ]
  },
  {
   "cell_type": "code",
   "execution_count": 54,
   "metadata": {},
   "outputs": [
    {
     "name": "stdout",
     "output_type": "stream",
     "text": [
      "2\n"
     ]
    }
   ],
   "source": [
    "#Q13. Write a Python program to find the index of an item of a tuple.  \n",
    "var=(10,20,30,4)\n",
    "print(var.index(30))"
   ]
  },
  {
   "cell_type": "code",
   "execution_count": 56,
   "metadata": {},
   "outputs": [
    {
     "name": "stdout",
     "output_type": "stream",
     "text": [
      "4\n"
     ]
    }
   ],
   "source": [
    "#Q14. Write a Python program to find the length of a tuple.  \n",
    "var=(1,2,3,4)\n",
    "print(len(var))"
   ]
  },
  {
   "cell_type": "code",
   "execution_count": 60,
   "metadata": {},
   "outputs": [
    {
     "name": "stdout",
     "output_type": "stream",
     "text": [
      "(4, 3, 2, 1)\n"
     ]
    }
   ],
   "source": [
    "#reverse function\n",
    "var=(1,2,3,4)\n",
    "print(tuple(reversed(var)))"
   ]
  }
 ],
 "metadata": {
  "kernelspec": {
   "display_name": "Python 3",
   "language": "python",
   "name": "python3"
  },
  "language_info": {
   "codemirror_mode": {
    "name": "ipython",
    "version": 3
   },
   "file_extension": ".py",
   "mimetype": "text/x-python",
   "name": "python",
   "nbconvert_exporter": "python",
   "pygments_lexer": "ipython3",
   "version": "3.7.4"
  }
 },
 "nbformat": 4,
 "nbformat_minor": 2
}
