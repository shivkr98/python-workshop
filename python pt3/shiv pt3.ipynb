{
 "cells": [
  {
   "cell_type": "code",
   "execution_count": null,
   "metadata": {},
   "outputs": [],
   "source": [
    "\n",
    "#Programming Questions-\n",
    "\n",
    "#Set B "
   ]
  },
  {
   "cell_type": "code",
   "execution_count": 1,
   "metadata": {},
   "outputs": [
    {
     "name": "stdout",
     "output_type": "stream",
     "text": [
      "Please enter your sentence here: shiv is rock\n",
      "is rock shiv\n"
     ]
    }
   ],
   "source": [
    "# 1 Write a program that accepts a sequence of whitespace separated words as input and\n",
    "#prints the words after removing all duplicate words \n",
    "\n",
    "phrase = input(\"Please enter your sentence here: \")\n",
    "phrase_splited = phrase.split(' ')\n",
    "\n",
    "word_list = []\n",
    "for i in phrase_splited:\n",
    "    if i not in word_list:\n",
    "        word_list.append(i)\n",
    "    else:\n",
    "        continue\n",
    "word_list.sort()\n",
    "print((' ').join(word_list))"
   ]
  },
  {
   "cell_type": "code",
   "execution_count": 2,
   "metadata": {},
   "outputs": [
    {
     "name": "stdout",
     "output_type": "stream",
     "text": [
      "12 35 88 120 155\n"
     ]
    }
   ],
   "source": [
    "# Q2 By using list comprehension, please write a program to print the list after removing\n",
    "#the value 24 in\n",
    "list1 = [12,24,35,24,88,120,155]  \n",
    "list1 = [ elem for elem in list1 if elem != 24] \n",
    "print(*list1)"
   ]
  },
  {
   "cell_type": "code",
   "execution_count": 4,
   "metadata": {},
   "outputs": [
    {
     "name": "stdout",
     "output_type": "stream",
     "text": [
      "{1: {'name': 'John', 'age': '27', 'sex': 'Male'}, 2: {'name': 'Marie', 'age': '22', 'sex': 'Female'}}\n"
     ]
    }
   ],
   "source": [
    "#Theoretical Questions: \n",
    "\n",
    "# 1. What is the syntax to call a constructor of a base class from child class\n",
    "   # ans  =  By using super class\n",
    "    \n",
    "#2.. How is a class made as inherited class (syntax of child class) \n",
    "    # ans = class Parent:\n",
    "    #             pass\n",
    "     #       class Child(Parent):\n",
    "      #           pass\n",
    "     \n",
    "       #       Here the class child inherits the class parent\n",
    "    \n",
    " #3.Print an element of a nested dictionary \n",
    "people = {1: {'name': 'John', 'age': '27', 'sex': 'Male'},\n",
    "          2: {'name': 'Marie', 'age': '22', 'sex': 'Female'}}\n",
    "\n",
    "print(people)"
   ]
  },
  {
   "cell_type": "code",
   "execution_count": null,
   "metadata": {},
   "outputs": [],
   "source": []
  }
 ],
 "metadata": {
  "kernelspec": {
   "display_name": "Python 3",
   "language": "python",
   "name": "python3"
  },
  "language_info": {
   "codemirror_mode": {
    "name": "ipython",
    "version": 3
   },
   "file_extension": ".py",
   "mimetype": "text/x-python",
   "name": "python",
   "nbconvert_exporter": "python",
   "pygments_lexer": "ipython3",
   "version": "3.7.4"
  }
 },
 "nbformat": 4,
 "nbformat_minor": 2
}
